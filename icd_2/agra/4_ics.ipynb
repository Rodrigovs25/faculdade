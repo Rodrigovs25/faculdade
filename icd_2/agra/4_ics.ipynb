{
  "nbformat": 4,
  "nbformat_minor": 0,
  "metadata": {
    "colab": {
      "provenance": []
    },
    "kernelspec": {
      "name": "python3",
      "display_name": "Python 3"
    },
    "language_info": {
      "name": "python"
    }
  },
  "cells": [
    {
      "cell_type": "markdown",
      "metadata": {
        "id": "oV8iH-KSPpsa"
      },
      "source": [
        "# Intervalos de Confiança\n",
        "\n",
        "Neste notebook, vamos aprender a calcular intervalos de confiança."
      ]
    },
    {
      "cell_type": "markdown",
      "metadata": {
        "id": "l2mGxqXAQY2u"
      },
      "source": [
        "## Uma breve introdução\n",
        "\n",
        "Embora intervalos de confiança sejam amplamente usados, pode ser difícil entender seu conceito e quando devemos usá-lo. Então vamos a um exemplo:\n",
        "\n",
        "Suponha que você queira saber qual a porcentagem de pessoas nos Brasil que amam futebol. Para obter uma resposta 100% correta a essa pergunta, você deveria perguntar a cada um dos 212 milhões habitantes se eles amam ou não futebol. Obviamente, não é viável falar com 212 milhões de pessoas.\n",
        "\n",
        "Você poderia então obter uma amostra aleatória de brasileiros (falando com muito menos pessoas) para obter a porcentagem de pessoas que amam futebol nessa amostra. Contudo, assim não estaria 100% confiante de que esse número está certo ou quão longe esse número está da resposta real.\n",
        "\n",
        "Você poderia tentar obter um intervalo, como: “Tenho 95% de certeza que a porcentagem de pessoas que amam futebol nos EUA está entre 58% e 62%”. É daí que vem o nome Intervalo de confiança, temos um intervalo e temos alguma confiança sobre ele."
      ]
    },
    {
      "cell_type": "markdown",
      "metadata": {
        "id": "8gy3R7pTUQ-R"
      },
      "source": [
        "## Como calcular intervalos de confiança"
      ]
    },
    {
      "cell_type": "markdown",
      "metadata": {
        "id": "sx68L-PHVeiF"
      },
      "source": [
        "O cálculo do intervalo de confiança (ou CI, Confidence Interval) envolve a melhor estimativa obtida pela amostra (média ou mediana) e uma margem de erro. A margem de erro é calculada usando o Z-score para a confiança desejada multiplicada pelo desvio padrão amostral da média.\n"
      ]
    },
    {
      "cell_type": "markdown",
      "metadata": {
        "id": "BAYsaU2IWzkL"
      },
      "source": [
        "![image.png](data:image/png;base64,iVBORw0KGgoAAAANSUhEUgAAAFAAAAA/CAYAAAB3s08iAAADtUlEQVR4Ae2a7XHkIAyGmbl/mSthtxH3cS24HlfjHlKDG7k/N7oRnwJjApKTTWxlZieEICMei1fCXgP6IyJgRNZqDApQGAQKUAEKCQjNNQIVoJCA0FwjUAEKCQjNNQIVoJCA0FwjUAEKCQjNNQIV4CiBDZbJgDHp89vMsI5exo+/WQQ6eL/mhGtbJlCA3dGzwh9jYFq2ZLEtME0LkJ70v47WLSNQEnEl05sBBIBtsVGIGphFYkmm8282wL//Omf4psPW2SURqoccV9kAOZO91GZboIQlTSC4ngOATmyfzyeEz+PxgLe3N5/+J6A6/FIwvZOvMxhD/fbljCCBNAD2evWDxhHtizWgEN69AH7Svd5vYRvqqUqPNSfpP7MMaK6rFjXkBGFOiKDm/B3/3AO0mX6yWpen+XAEojrSMYO/XingXZY73UIrvh9dcw4OqgIMtVIG0EdDjMiBiTDbcQBiqZH5QG4ux48Bl7uH1gH6u5wW7e56uZjeWbgAd9f3NzH5tRvx5R0HAAGAbB+MBInT5wB0pdWX6W/nrTgGCM5hTPkSeOjHGQDdyWFcfzs5sIc1AGIQGhjNdG6hKYvHmotmz9DuzaK+AuBKCJtOh+EhQIyasHipYIsicED3gr+f8fuIZR0g3nEbHe/2ycXrtrBLXt9N9yjMPUB8wEjOjLglpQvgRmCQg3wHrDALHsHTxZ/RLgC6xJE57PUn6xucmQXwQPestPRq56CfnOEEoK/wS+fCcarsH5htHKCvAMo5B/Sw7V6qMEb0snbNCBDfFbiL0VIhHJvOefhYc2Dfl89ZW6BkN9j5hO9BqM8RIO2UtINu1Ra+6ysjTDLxgC3uiLNKotMBDqzjRUMxwukuk7lxQ4DnZvH7AVxn8dGUxuztAKJGi5MQIXgzgHX9C4kvHRhImfNBorsXwF354komG5G2cJ9gWZd08uo4RFwSIEZU7fzeLF88rOzpU4Da+OLMpQCGrYj1ZtqOSbBa+mePiOQZAFphX+066YqHL9bpkB/Y9tGUF8ut8sWffjK9q/XtWVwqAtPyKotvli8uaZTAd1+FSxPE1kUBuu2HWzmULD36F8ZaOh0JBMddFiCEdzp2W743j281/aMv1bBdS0oXBxii0JUmrW+h2uST6R+iSbXgEbzLAwxfEMCt3IKAILg/F97CDkkobTJ949Kq2F0eIEbhR7VchUt31/UBdqPgDVSAPG7RSgFGFLyGAuRxi1YKMKLgNRQgj1u0UoARBa+hAHncopUCjCh4jf/snXhXpa+fLgAAAABJRU5ErkJggg==)\n",
        "\n",
        "\n"
      ]
    },
    {
      "cell_type": "markdown",
      "metadata": {
        "id": "DmUv_lmuEeeh"
      },
      "source": [
        "Em que ![image.png](data:image/png;base64,iVBORw0KGgoAAAANSUhEUgAAABIAAAATCAYAAACdkl3yAAAA8klEQVQ4EbWU0Q3DIAxELfUv6gjJIuzRFZiHadihMzDMVcaGxsRJ2iqNFCEMPM6HgXDRRz4n40GEZVn6P88zpmkCEYEoIBW7cgdkJ33S+yMoR5XPKRBiVj2r+J0iWripdRWVFCokGCMKUvD9YZgLQknVbAPSWFfYpGjrgyC73/oq6RvwZyAA1RM55hwJb+hAOFbEo1JLbPgZhGfvpCbbsBIKCUPtqQbb7ILayZkSsGtNzwexP1XJs57eb6mVhLC6S5yeV4BGztYjMbifOs/WijaxkWJBWrmjuVqIZ6Z3j/jZ2D4R7VrI2JFXHeSo/Sp0GegFmwS5SCQHnhUAAAAASUVORK5CYII=) é a média amostral, Z é o valor de Z-score associado ao nível de confiança desejado, e ![image.png](data:image/png;base64,iVBORw0KGgoAAAANSUhEUgAAAB0AAAAsCAYAAACZtbMHAAABzElEQVRYCe2X623EIAyALfVvJ2KPrsA8TMMOnYFhXBkCGOJwNrnqdNJVuiqQ4M9PMIAv+IMXMPEdoAmDAwTov2/wGI3uMlhagF++I1Jw+M/QiD8A6ELqdqWAzgVkM/3d4sls6Y5lM98ARcQUsrUU08HiWeqDsQ16CIu+JBKP7wPO8FoHTQFnwG4SEV0HjR4BHPYcOkpnI4n0UBbLVqObQD10iMj9gc699zmDhA90cMezBx/3Ptujg7zm3lb07IB+1txAVG+D86qb42bpTTmm5e8CLW2LNd7cFXZLN/uiW1A6vO+0KgQ3WkqHNz/Muf76ZyM0ot9ormd1bNDoT73SLFAzNkGpC2QNvka++I0BKseztqO9CWclddFH6aGnUikdYba8dosx9LtNnpM9c4KS5nOPSz5alsoBAG5ZVUS46DRodRPtNN1VPSSreJJCY19clJTkkMQGbeIPrccNYFUqUuMtzTWCAEVhwbJUhCskSnNLaHENubmWhyae9dssepFE9P7s3rKqXAlzYvwutz4pnsiTSPDSBbRa6zDE9W07JyDPWq40yJVwCeUXYKmEsuzNf9dQRKxlNMRrE8SXLaFk7VWtcSHW5zXUKk35/R8miVsZezHRigAAAABJRU5ErkJggg==) é o desvio padrão amostral da média."
      ]
    },
    {
      "cell_type": "markdown",
      "metadata": {
        "id": "uwHWVH4KXdsM"
      },
      "source": [
        "Aqui estão os z-scores para os níveis de confiança mais comuns:"
      ]
    },
    {
      "cell_type": "markdown",
      "metadata": {
        "id": "3ioFY0V3XwP3"
      },
      "source": [
        "Confiança | Z\n",
        "\n",
        "75%       | 1.15\n",
        "\n",
        "90%       | 1.64\n",
        "\n",
        "95%       | 1.96\n",
        "\n",
        "99%       | 2.57"
      ]
    },
    {
      "cell_type": "markdown",
      "metadata": {
        "id": "pZQQYw8IYy0E"
      },
      "source": [
        "## Vamos ao código!"
      ]
    },
    {
      "cell_type": "code",
      "metadata": {
        "id": "DoW5tEl7ron2"
      },
      "source": [
        "import pandas as pd\n",
        "import numpy as np"
      ],
      "execution_count": 43,
      "outputs": []
    },
    {
      "cell_type": "markdown",
      "metadata": {
        "id": "w5gPkU_mY3S3"
      },
      "source": [
        "## Base de dados\n",
        "Para este exercício, vamos utilizar uma base de dados do site [basedosdados.org](https://basedosdados.org), uma organização colaborativa que cataloga e divulga dados públicos brasileiros. Vocês podem usar esse site para buscar bases para projetos acadêmicos, sempre que necessitarem. Outro exemplo de site de reúne bases abertas (nesse caso, americanas) é o [UCI](https://archive.ics.uci.edu/ml/index.php)."
      ]
    },
    {
      "cell_type": "markdown",
      "metadata": {
        "id": "PK_W3lKVm9N9"
      },
      "source": [
        "Vamos usar a base de \"Indicadores de Mobilidade e Transportes em 2010\" para analisar os dados sobre tempo médio de deslocamento casa-trabalho para o ano de 2010.\n",
        "\n",
        "Para usar o arquivo, podemos usar duas opções: (1)  baixar o csv e importá-lo (usando pandas), ou (2) usar diretamente o pacote do basededados."
      ]
    },
    {
      "cell_type": "markdown",
      "metadata": {
        "id": "YgGzuKpXpK37"
      },
      "source": [
        "### Opção 1:\n",
        "Baixar a tabela 'tempo_deslocamento_casa_trabalho' em https://basedosdados.org/dataset/br-mobilidados-indicadores, adicionar em Files (menu da esquerda) e importar com pandas"
      ]
    },
    {
      "cell_type": "code",
      "metadata": {
        "id": "b2jzaNJbpGBB"
      },
      "source": [
        "df = pd.read_csv(\"\")"
      ],
      "execution_count": null,
      "outputs": []
    },
    {
      "cell_type": "markdown",
      "metadata": {
        "id": "JPE1JAOMpXFD"
      },
      "source": [
        "### Opção 2:\n",
        "Instalar o pacote basedosdados, e importar a base diretamente. Mais detalhes em: https://basedosdados.github.io/mais/access_data_packages/#primeiros-passos.\n",
        "\n",
        "Vocês terão que criar um projeto em https://console.cloud.google.com/projectselector2/home/dashboard?pli=1 para pegar o billing_project_id (ID do projeto)"
      ]
    },
    {
      "cell_type": "code",
      "metadata": {
        "id": "2LtkuGTKnZE1",
        "colab": {
          "base_uri": "https://localhost:8080/"
        },
        "outputId": "a97b0772-1155-46b2-eb62-5470b37d07af"
      },
      "source": [
        "!pip install basedosdados\n",
        "import basedosdados as bd\n",
        "# Para carregar o dado direto no pandas\n",
        "df = bd.read_table(dataset_id='br_mobilidados_indicadores',\n",
        "            table_id='tempo_deslocamento_casa_trabalho',\\\n",
        "            billing_project_id='651717382049')#colocar aqui o ID do projeto do gcloud\n",
        "            #billing_project_id='censo-331617')\n"
      ],
      "execution_count": 44,
      "outputs": [
        {
          "output_type": "stream",
          "name": "stdout",
          "text": [
            "Requirement already satisfied: basedosdados in /usr/local/lib/python3.10/dist-packages (1.6.11)\n",
            "Requirement already satisfied: Jinja2==3.0.3 in /usr/local/lib/python3.10/dist-packages (from basedosdados) (3.0.3)\n",
            "Requirement already satisfied: ckanapi==4.6 in /usr/local/lib/python3.10/dist-packages (from basedosdados) (4.6)\n",
            "Requirement already satisfied: click==8.0.3 in /usr/local/lib/python3.10/dist-packages (from basedosdados) (8.0.3)\n",
            "Requirement already satisfied: google-cloud-bigquery==2.30.1 in /usr/local/lib/python3.10/dist-packages (from basedosdados) (2.30.1)\n",
            "Requirement already satisfied: google-cloud-bigquery-storage==1.1.0 in /usr/local/lib/python3.10/dist-packages (from basedosdados) (1.1.0)\n",
            "Requirement already satisfied: google-cloud-storage==1.42.3 in /usr/local/lib/python3.10/dist-packages (from basedosdados) (1.42.3)\n",
            "Requirement already satisfied: importlib-metadata<5.0.0,>=4.11.3 in /usr/local/lib/python3.10/dist-packages (from basedosdados) (4.13.0)\n",
            "Requirement already satisfied: loguru<0.7.0,>=0.6.0 in /usr/local/lib/python3.10/dist-packages (from basedosdados) (0.6.0)\n",
            "Requirement already satisfied: pandas<2.0.0,>=1.3.5 in /usr/local/lib/python3.10/dist-packages (from basedosdados) (1.5.3)\n",
            "Requirement already satisfied: pandas-gbq<0.18.0,>=0.17.4 in /usr/local/lib/python3.10/dist-packages (from basedosdados) (0.17.9)\n",
            "Requirement already satisfied: pandavro<2.0.0,>=1.6.0 in /usr/local/lib/python3.10/dist-packages (from basedosdados) (1.7.2)\n",
            "Requirement already satisfied: pyaml==20.4.0 in /usr/local/lib/python3.10/dist-packages (from basedosdados) (20.4.0)\n",
            "Requirement already satisfied: pyarrow==6.0.0 in /usr/local/lib/python3.10/dist-packages (from basedosdados) (6.0.0)\n",
            "Requirement already satisfied: ruamel.yaml==0.17.10 in /usr/local/lib/python3.10/dist-packages (from basedosdados) (0.17.10)\n",
            "Requirement already satisfied: shapely<2.0.0,>=1.6.0 in /usr/local/lib/python3.10/dist-packages (from basedosdados) (1.8.5.post1)\n",
            "Requirement already satisfied: toml<0.11.0,>=0.10.2 in /usr/local/lib/python3.10/dist-packages (from basedosdados) (0.10.2)\n",
            "Requirement already satisfied: tomlkit==0.7.0 in /usr/local/lib/python3.10/dist-packages (from basedosdados) (0.7.0)\n",
            "Requirement already satisfied: tqdm==4.50.2 in /usr/local/lib/python3.10/dist-packages (from basedosdados) (4.50.2)\n",
            "Requirement already satisfied: setuptools in /usr/local/lib/python3.10/dist-packages (from ckanapi==4.6->basedosdados) (67.7.2)\n",
            "Requirement already satisfied: docopt in /usr/local/lib/python3.10/dist-packages (from ckanapi==4.6->basedosdados) (0.6.2)\n",
            "Requirement already satisfied: requests in /usr/local/lib/python3.10/dist-packages (from ckanapi==4.6->basedosdados) (2.31.0)\n",
            "Requirement already satisfied: python-slugify>=1.0 in /usr/local/lib/python3.10/dist-packages (from ckanapi==4.6->basedosdados) (8.0.1)\n",
            "Requirement already satisfied: six<2.0,>=1.9 in /usr/local/lib/python3.10/dist-packages (from ckanapi==4.6->basedosdados) (1.16.0)\n",
            "Requirement already satisfied: grpcio<2.0dev,>=1.38.1 in /usr/local/lib/python3.10/dist-packages (from google-cloud-bigquery==2.30.1->basedosdados) (1.59.0)\n",
            "Requirement already satisfied: google-api-core[grpc]<3.0.0dev,>=1.29.0 in /usr/local/lib/python3.10/dist-packages (from google-cloud-bigquery==2.30.1->basedosdados) (1.34.0)\n",
            "Requirement already satisfied: proto-plus>=1.10.0 in /usr/local/lib/python3.10/dist-packages (from google-cloud-bigquery==2.30.1->basedosdados) (1.22.3)\n",
            "Requirement already satisfied: google-cloud-core<3.0.0dev,>=1.4.1 in /usr/local/lib/python3.10/dist-packages (from google-cloud-bigquery==2.30.1->basedosdados) (2.3.3)\n",
            "Requirement already satisfied: google-resumable-media<3.0dev,>=0.6.0 in /usr/local/lib/python3.10/dist-packages (from google-cloud-bigquery==2.30.1->basedosdados) (2.6.0)\n",
            "Requirement already satisfied: packaging>=14.3 in /usr/local/lib/python3.10/dist-packages (from google-cloud-bigquery==2.30.1->basedosdados) (23.2)\n",
            "Requirement already satisfied: protobuf>=3.12.0 in /usr/local/lib/python3.10/dist-packages (from google-cloud-bigquery==2.30.1->basedosdados) (3.20.3)\n",
            "Requirement already satisfied: python-dateutil<3.0dev,>=2.7.2 in /usr/local/lib/python3.10/dist-packages (from google-cloud-bigquery==2.30.1->basedosdados) (2.8.2)\n",
            "Requirement already satisfied: google-auth<3.0dev,>=1.25.0 in /usr/local/lib/python3.10/dist-packages (from google-cloud-storage==1.42.3->basedosdados) (2.17.3)\n",
            "Requirement already satisfied: MarkupSafe>=2.0 in /usr/local/lib/python3.10/dist-packages (from Jinja2==3.0.3->basedosdados) (2.1.3)\n",
            "Requirement already satisfied: PyYAML in /usr/local/lib/python3.10/dist-packages (from pyaml==20.4.0->basedosdados) (6.0.1)\n",
            "Requirement already satisfied: numpy>=1.16.6 in /usr/local/lib/python3.10/dist-packages (from pyarrow==6.0.0->basedosdados) (1.23.5)\n",
            "Requirement already satisfied: zipp>=0.5 in /usr/local/lib/python3.10/dist-packages (from importlib-metadata<5.0.0,>=4.11.3->basedosdados) (3.17.0)\n",
            "Requirement already satisfied: pytz>=2020.1 in /usr/local/lib/python3.10/dist-packages (from pandas<2.0.0,>=1.3.5->basedosdados) (2023.3.post1)\n",
            "Requirement already satisfied: db-dtypes<2.0.0,>=0.3.1 in /usr/local/lib/python3.10/dist-packages (from pandas-gbq<0.18.0,>=0.17.4->basedosdados) (1.1.1)\n",
            "Requirement already satisfied: pydata-google-auth in /usr/local/lib/python3.10/dist-packages (from pandas-gbq<0.18.0,>=0.17.4->basedosdados) (1.8.2)\n",
            "Requirement already satisfied: google-auth-oauthlib>=0.0.1 in /usr/local/lib/python3.10/dist-packages (from pandas-gbq<0.18.0,>=0.17.4->basedosdados) (1.0.0)\n",
            "Requirement already satisfied: fastavro~=1.5.1 in /usr/local/lib/python3.10/dist-packages (from pandavro<2.0.0,>=1.6.0->basedosdados) (1.5.4)\n",
            "Requirement already satisfied: googleapis-common-protos<2.0dev,>=1.56.2 in /usr/local/lib/python3.10/dist-packages (from google-api-core[grpc]<3.0.0dev,>=1.29.0->google-cloud-bigquery==2.30.1->basedosdados) (1.61.0)\n",
            "Requirement already satisfied: grpcio-status<2.0dev,>=1.33.2 in /usr/local/lib/python3.10/dist-packages (from google-api-core[grpc]<3.0.0dev,>=1.29.0->google-cloud-bigquery==2.30.1->basedosdados) (1.48.2)\n",
            "Requirement already satisfied: cachetools<6.0,>=2.0.0 in /usr/local/lib/python3.10/dist-packages (from google-auth<3.0dev,>=1.25.0->google-cloud-storage==1.42.3->basedosdados) (5.3.1)\n",
            "Requirement already satisfied: pyasn1-modules>=0.2.1 in /usr/local/lib/python3.10/dist-packages (from google-auth<3.0dev,>=1.25.0->google-cloud-storage==1.42.3->basedosdados) (0.3.0)\n",
            "Requirement already satisfied: rsa<5,>=3.1.4 in /usr/local/lib/python3.10/dist-packages (from google-auth<3.0dev,>=1.25.0->google-cloud-storage==1.42.3->basedosdados) (4.9)\n",
            "Requirement already satisfied: requests-oauthlib>=0.7.0 in /usr/local/lib/python3.10/dist-packages (from google-auth-oauthlib>=0.0.1->pandas-gbq<0.18.0,>=0.17.4->basedosdados) (1.3.1)\n",
            "Requirement already satisfied: google-crc32c<2.0dev,>=1.0 in /usr/local/lib/python3.10/dist-packages (from google-resumable-media<3.0dev,>=0.6.0->google-cloud-bigquery==2.30.1->basedosdados) (1.5.0)\n",
            "Requirement already satisfied: text-unidecode>=1.3 in /usr/local/lib/python3.10/dist-packages (from python-slugify>=1.0->ckanapi==4.6->basedosdados) (1.3)\n",
            "Requirement already satisfied: charset-normalizer<4,>=2 in /usr/local/lib/python3.10/dist-packages (from requests->ckanapi==4.6->basedosdados) (3.3.0)\n",
            "Requirement already satisfied: idna<4,>=2.5 in /usr/local/lib/python3.10/dist-packages (from requests->ckanapi==4.6->basedosdados) (3.4)\n",
            "Requirement already satisfied: urllib3<3,>=1.21.1 in /usr/local/lib/python3.10/dist-packages (from requests->ckanapi==4.6->basedosdados) (2.0.7)\n",
            "Requirement already satisfied: certifi>=2017.4.17 in /usr/local/lib/python3.10/dist-packages (from requests->ckanapi==4.6->basedosdados) (2023.7.22)\n",
            "Requirement already satisfied: pyasn1<0.6.0,>=0.4.6 in /usr/local/lib/python3.10/dist-packages (from pyasn1-modules>=0.2.1->google-auth<3.0dev,>=1.25.0->google-cloud-storage==1.42.3->basedosdados) (0.5.0)\n",
            "Requirement already satisfied: oauthlib>=3.0.0 in /usr/local/lib/python3.10/dist-packages (from requests-oauthlib>=0.7.0->google-auth-oauthlib>=0.0.1->pandas-gbq<0.18.0,>=0.17.4->basedosdados) (3.2.2)\n"
          ]
        },
        {
          "output_type": "stream",
          "name": "stderr",
          "text": [
            "Downloading: 100%|██████████| 229/229 [00:00<00:00, 1282.68rows/s]\n"
          ]
        }
      ]
    },
    {
      "cell_type": "code",
      "metadata": {
        "id": "XJwqVNnr9BQY",
        "colab": {
          "base_uri": "https://localhost:8080/"
        },
        "outputId": "0a6fa599-7fe4-436f-9a62-64b3815312dd"
      },
      "source": [
        "df = bd.read_table(dataset_id='br_mobilidados_indicadores',\n",
        "            table_id='tempo_deslocamento_casa_trabalho',\n",
        "            billing_project_id='651717382049')\n"
      ],
      "execution_count": 45,
      "outputs": [
        {
          "output_type": "stream",
          "name": "stderr",
          "text": [
            "Downloading: 100%|██████████| 229/229 [00:00<00:00, 930.52rows/s]\n"
          ]
        }
      ]
    },
    {
      "cell_type": "markdown",
      "metadata": {
        "id": "_nL4_4PEaawP"
      },
      "source": [
        "Antes de começarmos a análise, é importante explorar se há valores faltantes."
      ]
    },
    {
      "cell_type": "code",
      "metadata": {
        "id": "D2yqkkLNan8S",
        "colab": {
          "base_uri": "https://localhost:8080/"
        },
        "outputId": "0f3de1d4-6896-4194-d574-7613ec79a948"
      },
      "source": [
        "df['tempo_medio_deslocamento'].isnull().sum()"
      ],
      "execution_count": 46,
      "outputs": [
        {
          "output_type": "execute_result",
          "data": {
            "text/plain": [
              "0"
            ]
          },
          "metadata": {},
          "execution_count": 46
        }
      ]
    },
    {
      "cell_type": "code",
      "source": [
        "df.head()"
      ],
      "metadata": {
        "colab": {
          "base_uri": "https://localhost:8080/",
          "height": 206
        },
        "id": "6U6g7JJKcrfS",
        "outputId": "ceb70968-62f8-4112-db1d-78ec922296f2"
      },
      "execution_count": 47,
      "outputs": [
        {
          "output_type": "execute_result",
          "data": {
            "text/plain": [
              "    ano sigla_uf id_municipio  tempo_medio_deslocamento  \\\n",
              "0  2010       RO      1100205                        28   \n",
              "1  2010       AC      1200401                        26   \n",
              "2  2010       PA      1202400                        21   \n",
              "3  2010       PA      1206500                        25   \n",
              "4  2010       AM      1302603                        41   \n",
              "\n",
              "   prop_deslocamento_acima_1_hora  \n",
              "0                             7.0  \n",
              "1                             5.0  \n",
              "2                             3.0  \n",
              "3                             7.0  \n",
              "4                            17.0  "
            ],
            "text/html": [
              "\n",
              "  <div id=\"df-2181f519-e749-496d-98d6-c32531d8b832\" class=\"colab-df-container\">\n",
              "    <div>\n",
              "<style scoped>\n",
              "    .dataframe tbody tr th:only-of-type {\n",
              "        vertical-align: middle;\n",
              "    }\n",
              "\n",
              "    .dataframe tbody tr th {\n",
              "        vertical-align: top;\n",
              "    }\n",
              "\n",
              "    .dataframe thead th {\n",
              "        text-align: right;\n",
              "    }\n",
              "</style>\n",
              "<table border=\"1\" class=\"dataframe\">\n",
              "  <thead>\n",
              "    <tr style=\"text-align: right;\">\n",
              "      <th></th>\n",
              "      <th>ano</th>\n",
              "      <th>sigla_uf</th>\n",
              "      <th>id_municipio</th>\n",
              "      <th>tempo_medio_deslocamento</th>\n",
              "      <th>prop_deslocamento_acima_1_hora</th>\n",
              "    </tr>\n",
              "  </thead>\n",
              "  <tbody>\n",
              "    <tr>\n",
              "      <th>0</th>\n",
              "      <td>2010</td>\n",
              "      <td>RO</td>\n",
              "      <td>1100205</td>\n",
              "      <td>28</td>\n",
              "      <td>7.0</td>\n",
              "    </tr>\n",
              "    <tr>\n",
              "      <th>1</th>\n",
              "      <td>2010</td>\n",
              "      <td>AC</td>\n",
              "      <td>1200401</td>\n",
              "      <td>26</td>\n",
              "      <td>5.0</td>\n",
              "    </tr>\n",
              "    <tr>\n",
              "      <th>2</th>\n",
              "      <td>2010</td>\n",
              "      <td>PA</td>\n",
              "      <td>1202400</td>\n",
              "      <td>21</td>\n",
              "      <td>3.0</td>\n",
              "    </tr>\n",
              "    <tr>\n",
              "      <th>3</th>\n",
              "      <td>2010</td>\n",
              "      <td>PA</td>\n",
              "      <td>1206500</td>\n",
              "      <td>25</td>\n",
              "      <td>7.0</td>\n",
              "    </tr>\n",
              "    <tr>\n",
              "      <th>4</th>\n",
              "      <td>2010</td>\n",
              "      <td>AM</td>\n",
              "      <td>1302603</td>\n",
              "      <td>41</td>\n",
              "      <td>17.0</td>\n",
              "    </tr>\n",
              "  </tbody>\n",
              "</table>\n",
              "</div>\n",
              "    <div class=\"colab-df-buttons\">\n",
              "\n",
              "  <div class=\"colab-df-container\">\n",
              "    <button class=\"colab-df-convert\" onclick=\"convertToInteractive('df-2181f519-e749-496d-98d6-c32531d8b832')\"\n",
              "            title=\"Convert this dataframe to an interactive table.\"\n",
              "            style=\"display:none;\">\n",
              "\n",
              "  <svg xmlns=\"http://www.w3.org/2000/svg\" height=\"24px\" viewBox=\"0 -960 960 960\">\n",
              "    <path d=\"M120-120v-720h720v720H120Zm60-500h600v-160H180v160Zm220 220h160v-160H400v160Zm0 220h160v-160H400v160ZM180-400h160v-160H180v160Zm440 0h160v-160H620v160ZM180-180h160v-160H180v160Zm440 0h160v-160H620v160Z\"/>\n",
              "  </svg>\n",
              "    </button>\n",
              "\n",
              "  <style>\n",
              "    .colab-df-container {\n",
              "      display:flex;\n",
              "      gap: 12px;\n",
              "    }\n",
              "\n",
              "    .colab-df-convert {\n",
              "      background-color: #E8F0FE;\n",
              "      border: none;\n",
              "      border-radius: 50%;\n",
              "      cursor: pointer;\n",
              "      display: none;\n",
              "      fill: #1967D2;\n",
              "      height: 32px;\n",
              "      padding: 0 0 0 0;\n",
              "      width: 32px;\n",
              "    }\n",
              "\n",
              "    .colab-df-convert:hover {\n",
              "      background-color: #E2EBFA;\n",
              "      box-shadow: 0px 1px 2px rgba(60, 64, 67, 0.3), 0px 1px 3px 1px rgba(60, 64, 67, 0.15);\n",
              "      fill: #174EA6;\n",
              "    }\n",
              "\n",
              "    .colab-df-buttons div {\n",
              "      margin-bottom: 4px;\n",
              "    }\n",
              "\n",
              "    [theme=dark] .colab-df-convert {\n",
              "      background-color: #3B4455;\n",
              "      fill: #D2E3FC;\n",
              "    }\n",
              "\n",
              "    [theme=dark] .colab-df-convert:hover {\n",
              "      background-color: #434B5C;\n",
              "      box-shadow: 0px 1px 3px 1px rgba(0, 0, 0, 0.15);\n",
              "      filter: drop-shadow(0px 1px 2px rgba(0, 0, 0, 0.3));\n",
              "      fill: #FFFFFF;\n",
              "    }\n",
              "  </style>\n",
              "\n",
              "    <script>\n",
              "      const buttonEl =\n",
              "        document.querySelector('#df-2181f519-e749-496d-98d6-c32531d8b832 button.colab-df-convert');\n",
              "      buttonEl.style.display =\n",
              "        google.colab.kernel.accessAllowed ? 'block' : 'none';\n",
              "\n",
              "      async function convertToInteractive(key) {\n",
              "        const element = document.querySelector('#df-2181f519-e749-496d-98d6-c32531d8b832');\n",
              "        const dataTable =\n",
              "          await google.colab.kernel.invokeFunction('convertToInteractive',\n",
              "                                                    [key], {});\n",
              "        if (!dataTable) return;\n",
              "\n",
              "        const docLinkHtml = 'Like what you see? Visit the ' +\n",
              "          '<a target=\"_blank\" href=https://colab.research.google.com/notebooks/data_table.ipynb>data table notebook</a>'\n",
              "          + ' to learn more about interactive tables.';\n",
              "        element.innerHTML = '';\n",
              "        dataTable['output_type'] = 'display_data';\n",
              "        await google.colab.output.renderOutput(dataTable, element);\n",
              "        const docLink = document.createElement('div');\n",
              "        docLink.innerHTML = docLinkHtml;\n",
              "        element.appendChild(docLink);\n",
              "      }\n",
              "    </script>\n",
              "  </div>\n",
              "\n",
              "\n",
              "<div id=\"df-ef2f55bf-637b-4daa-b004-2e47cb2638e8\">\n",
              "  <button class=\"colab-df-quickchart\" onclick=\"quickchart('df-ef2f55bf-637b-4daa-b004-2e47cb2638e8')\"\n",
              "            title=\"Suggest charts.\"\n",
              "            style=\"display:none;\">\n",
              "\n",
              "<svg xmlns=\"http://www.w3.org/2000/svg\" height=\"24px\"viewBox=\"0 0 24 24\"\n",
              "     width=\"24px\">\n",
              "    <g>\n",
              "        <path d=\"M19 3H5c-1.1 0-2 .9-2 2v14c0 1.1.9 2 2 2h14c1.1 0 2-.9 2-2V5c0-1.1-.9-2-2-2zM9 17H7v-7h2v7zm4 0h-2V7h2v10zm4 0h-2v-4h2v4z\"/>\n",
              "    </g>\n",
              "</svg>\n",
              "  </button>\n",
              "\n",
              "<style>\n",
              "  .colab-df-quickchart {\n",
              "      --bg-color: #E8F0FE;\n",
              "      --fill-color: #1967D2;\n",
              "      --hover-bg-color: #E2EBFA;\n",
              "      --hover-fill-color: #174EA6;\n",
              "      --disabled-fill-color: #AAA;\n",
              "      --disabled-bg-color: #DDD;\n",
              "  }\n",
              "\n",
              "  [theme=dark] .colab-df-quickchart {\n",
              "      --bg-color: #3B4455;\n",
              "      --fill-color: #D2E3FC;\n",
              "      --hover-bg-color: #434B5C;\n",
              "      --hover-fill-color: #FFFFFF;\n",
              "      --disabled-bg-color: #3B4455;\n",
              "      --disabled-fill-color: #666;\n",
              "  }\n",
              "\n",
              "  .colab-df-quickchart {\n",
              "    background-color: var(--bg-color);\n",
              "    border: none;\n",
              "    border-radius: 50%;\n",
              "    cursor: pointer;\n",
              "    display: none;\n",
              "    fill: var(--fill-color);\n",
              "    height: 32px;\n",
              "    padding: 0;\n",
              "    width: 32px;\n",
              "  }\n",
              "\n",
              "  .colab-df-quickchart:hover {\n",
              "    background-color: var(--hover-bg-color);\n",
              "    box-shadow: 0 1px 2px rgba(60, 64, 67, 0.3), 0 1px 3px 1px rgba(60, 64, 67, 0.15);\n",
              "    fill: var(--button-hover-fill-color);\n",
              "  }\n",
              "\n",
              "  .colab-df-quickchart-complete:disabled,\n",
              "  .colab-df-quickchart-complete:disabled:hover {\n",
              "    background-color: var(--disabled-bg-color);\n",
              "    fill: var(--disabled-fill-color);\n",
              "    box-shadow: none;\n",
              "  }\n",
              "\n",
              "  .colab-df-spinner {\n",
              "    border: 2px solid var(--fill-color);\n",
              "    border-color: transparent;\n",
              "    border-bottom-color: var(--fill-color);\n",
              "    animation:\n",
              "      spin 1s steps(1) infinite;\n",
              "  }\n",
              "\n",
              "  @keyframes spin {\n",
              "    0% {\n",
              "      border-color: transparent;\n",
              "      border-bottom-color: var(--fill-color);\n",
              "      border-left-color: var(--fill-color);\n",
              "    }\n",
              "    20% {\n",
              "      border-color: transparent;\n",
              "      border-left-color: var(--fill-color);\n",
              "      border-top-color: var(--fill-color);\n",
              "    }\n",
              "    30% {\n",
              "      border-color: transparent;\n",
              "      border-left-color: var(--fill-color);\n",
              "      border-top-color: var(--fill-color);\n",
              "      border-right-color: var(--fill-color);\n",
              "    }\n",
              "    40% {\n",
              "      border-color: transparent;\n",
              "      border-right-color: var(--fill-color);\n",
              "      border-top-color: var(--fill-color);\n",
              "    }\n",
              "    60% {\n",
              "      border-color: transparent;\n",
              "      border-right-color: var(--fill-color);\n",
              "    }\n",
              "    80% {\n",
              "      border-color: transparent;\n",
              "      border-right-color: var(--fill-color);\n",
              "      border-bottom-color: var(--fill-color);\n",
              "    }\n",
              "    90% {\n",
              "      border-color: transparent;\n",
              "      border-bottom-color: var(--fill-color);\n",
              "    }\n",
              "  }\n",
              "</style>\n",
              "\n",
              "  <script>\n",
              "    async function quickchart(key) {\n",
              "      const quickchartButtonEl =\n",
              "        document.querySelector('#' + key + ' button');\n",
              "      quickchartButtonEl.disabled = true;  // To prevent multiple clicks.\n",
              "      quickchartButtonEl.classList.add('colab-df-spinner');\n",
              "      try {\n",
              "        const charts = await google.colab.kernel.invokeFunction(\n",
              "            'suggestCharts', [key], {});\n",
              "      } catch (error) {\n",
              "        console.error('Error during call to suggestCharts:', error);\n",
              "      }\n",
              "      quickchartButtonEl.classList.remove('colab-df-spinner');\n",
              "      quickchartButtonEl.classList.add('colab-df-quickchart-complete');\n",
              "    }\n",
              "    (() => {\n",
              "      let quickchartButtonEl =\n",
              "        document.querySelector('#df-ef2f55bf-637b-4daa-b004-2e47cb2638e8 button');\n",
              "      quickchartButtonEl.style.display =\n",
              "        google.colab.kernel.accessAllowed ? 'block' : 'none';\n",
              "    })();\n",
              "  </script>\n",
              "</div>\n",
              "    </div>\n",
              "  </div>\n"
            ]
          },
          "metadata": {},
          "execution_count": 47
        }
      ]
    },
    {
      "cell_type": "markdown",
      "metadata": {
        "id": "SiR5qAW2bjco"
      },
      "source": [
        "Não há valores faltantes."
      ]
    },
    {
      "cell_type": "markdown",
      "metadata": {
        "id": "Qy6G6B-U-mY7"
      },
      "source": [
        "### Vamos calcular o intervalo de confiança para o tempo medio de deslocamento no estado de MG para um nível de confiança de 95%."
      ]
    },
    {
      "cell_type": "code",
      "metadata": {
        "id": "SF-lNDIE-iEq",
        "colab": {
          "base_uri": "https://localhost:8080/"
        },
        "outputId": "56483c0c-9769-4f31-dd84-074a1ecaef6a"
      },
      "source": [
        "## Primeiro, vamos calcular a media e o o desvio padrao\n",
        "media_mg = np.mean(df.loc[df['sigla_uf']=='MG','tempo_medio_deslocamento'])\n",
        "std_mg = np.std(df.loc[df['sigla_uf']=='MG','tempo_medio_deslocamento'])\n",
        "\n",
        "print('O tempo médio de deslocamento no estado de MG é de', \\\n",
        "      np.round(media_mg,2), 'e o desvio padrão é de', np.round(std_mg,2))"
      ],
      "execution_count": 48,
      "outputs": [
        {
          "output_type": "stream",
          "name": "stdout",
          "text": [
            "O tempo médio de deslocamento no estado de MG é de 33.95 e o desvio padrão é de 10.49\n"
          ]
        }
      ]
    },
    {
      "cell_type": "code",
      "metadata": {
        "id": "N0LfA7ClACtZ"
      },
      "source": [
        "## Agora, voltando à tabela do Z-score, vemos que o valor de Z\n",
        "##correspondente a um nível de confiança de 95% é de 1.96\n",
        "## Assim, podemos calcular o intervalo de confiança:\n",
        "\n",
        "z = 1.96\n",
        "CI_inf_mg = media_mg - z*(std_mg/np.sqrt(len(df.loc[df['sigla_uf']=='MG'])))\n",
        "CI_sup_mg = media_mg + z*(std_mg/np.sqrt(len(df.loc[df['sigla_uf']=='MG'])))"
      ],
      "execution_count": 49,
      "outputs": []
    },
    {
      "cell_type": "code",
      "metadata": {
        "id": "EwRgysOvA1-J",
        "colab": {
          "base_uri": "https://localhost:8080/"
        },
        "outputId": "64561292-8e73-4761-8322-22aed9b7ef9d"
      },
      "source": [
        "print('(', np.round(CI_inf_mg,2), ',',np.round(CI_sup_mg,2), ')')"
      ],
      "execution_count": 50,
      "outputs": [
        {
          "output_type": "stream",
          "name": "stdout",
          "text": [
            "( 30.61 , 37.28 )\n"
          ]
        }
      ]
    },
    {
      "cell_type": "markdown",
      "metadata": {
        "id": "WA2eaVytBfSo"
      },
      "source": [
        "## Exercício 1\n",
        "\n",
        "Qual é o CI do tempo médio de deslocamento casa-trabalho para o estado de MG, considerando um nível de confiança de 90%?"
      ]
    },
    {
      "cell_type": "code",
      "metadata": {
        "id": "b9sRK9UIUrWx",
        "colab": {
          "base_uri": "https://localhost:8080/"
        },
        "outputId": "a98a4ed2-d400-48de-badc-d1d273782c77"
      },
      "source": [
        "# Dados\n",
        "media_mg = np.mean(df.loc[df['sigla_uf'] == 'MG', 'tempo_medio_deslocamento'])\n",
        "std_mg = np.std(df.loc[df['sigla_uf'] == 'MG', 'tempo_medio_deslocamento'])\n",
        "n_mg = len(df.loc[df['sigla_uf'] == 'MG'])\n",
        "\n",
        "# Nível de confiança de 90%\n",
        "z = 1.64\n",
        "\n",
        "# Cálculo do intervalo de confiança\n",
        "CI_inf_mg = media_mg - z * (std_mg / np.sqrt(n_mg))\n",
        "CI_sup_mg = media_mg + z * (std_mg / np.sqrt(n_mg))\n",
        "\n",
        "# Exibição do resultado\n",
        "print(np.round(CI_inf_mg, 2), 'a', np.round(CI_sup_mg, 2))\n"
      ],
      "execution_count": 58,
      "outputs": [
        {
          "output_type": "stream",
          "name": "stdout",
          "text": [
            "31.16 a 36.74\n"
          ]
        }
      ]
    },
    {
      "cell_type": "markdown",
      "metadata": {
        "id": "QfiTVIclUrvc"
      },
      "source": [
        "## Exercício 2\n",
        "\n",
        "Qual é o CI do tempo médio de deslocamento casa-trabalho para o estado de SP, considerando um nível de confiança de 95%?"
      ]
    },
    {
      "cell_type": "code",
      "metadata": {
        "id": "503EGlrSU0y8",
        "colab": {
          "base_uri": "https://localhost:8080/"
        },
        "outputId": "b3383cb6-39c1-48dd-89ad-f36ea1c14fe0"
      },
      "source": [
        "# Dados\n",
        "media_sp = np.mean(df.loc[df['sigla_uf'] == 'SP', 'tempo_medio_deslocamento'])\n",
        "std_sp = np.std(df.loc[df['sigla_uf'] == 'SP', 'tempo_medio_deslocamento'])\n",
        "n_sp = len(df.loc[df['sigla_uf'] == 'SP'])\n",
        "\n",
        "# Nível de confiança de 95%\n",
        "z = 1.96\n",
        "\n",
        "# Cálculo do intervalo de confiança\n",
        "CI_inf_sp = media_sp - z * (std_sp / np.sqrt(n_sp))\n",
        "CI_sup_sp = media_sp + z * (std_sp / np.sqrt(n_sp))\n",
        "#print(CI_inf_sp)\n",
        "\n",
        "# Exibição do resultado\n",
        "print(np.round(CI_inf_sp, 3), 'a', np.round(CI_sup_sp, 2))\n"
      ],
      "execution_count": 61,
      "outputs": [
        {
          "output_type": "stream",
          "name": "stdout",
          "text": [
            "41.899 a 47.13\n"
          ]
        }
      ]
    },
    {
      "cell_type": "markdown",
      "metadata": {
        "id": "qvCxFKxTU1nm"
      },
      "source": [
        "## Exercício 3\n",
        "\n",
        "Qual é o CI do tempo **mediano** de deslocamento casa-trabalho para o estado de SP, considerando um nível de confiança de 95%?"
      ]
    },
    {
      "cell_type": "code",
      "metadata": {
        "id": "26AF4cedU9kq",
        "colab": {
          "base_uri": "https://localhost:8080/"
        },
        "outputId": "c3313ca1-bb8b-411c-ea25-6fd6fc41354c"
      },
      "source": [
        "from scipy import stats\n",
        "\n",
        "# Dados\n",
        "dados_sp = df.loc[df['sigla_uf'] == 'SP', 'tempo_medio_deslocamento']\n",
        "\n",
        "# Nível de confiança de 95%\n",
        "alpha = 0.05\n",
        "\n",
        "# Cálculo do intervalo de confiança do mediano\n",
        "mediana_sp = np.median(dados_sp)\n",
        "lower_percentile = alpha / 2 * 100\n",
        "upper_percentile = 100 - lower_percentile\n",
        "\n",
        "CI_mediano_sp = np.percentile(dados_sp, [lower_percentile, upper_percentile])\n",
        "\n",
        "# Exibição do resultado\n",
        "print(np.round(CI_mediano_sp[0], 2), 'a', np.round(CI_mediano_sp[1], 3))\n"
      ],
      "execution_count": 65,
      "outputs": [
        {
          "output_type": "stream",
          "name": "stdout",
          "text": [
            "32.85 a 60.3\n"
          ]
        }
      ]
    },
    {
      "cell_type": "markdown",
      "metadata": {
        "id": "fI7HkUs5U-Fa"
      },
      "source": [
        "### Biblioteca scipy.stats\n",
        "\n",
        "O módulo de funções estatísticas scipy stats nos permite calcular o CI chamando apenas uma função. Para maiores informações, ver https://docs.scipy.org/doc/scipy/reference/generated/scipy.stats.norm.html."
      ]
    },
    {
      "cell_type": "code",
      "metadata": {
        "id": "UXTBErLABclW"
      },
      "source": [
        "import scipy.stats as st\n",
        "#Voltando ao problema inicial, vamos calcular o intervalo de confiança para\n",
        "#o tempo medio de deslocamento no estado de MG para um nível de confiança de 95%.\n",
        "#alpha = nivel de confiança\n",
        "#loc = array dos dados para media\n",
        "#scale = desvio padrão amostral da média\n",
        "\n",
        "# Dados\n",
        "dados_mg = df.loc[df['sigla_uf'] == 'MG', 'tempo_medio_deslocamento']\n",
        "\n",
        "# Nível de confiança de 95%\n",
        "confidence = 0.95\n",
        "\n",
        "# Cálculo do intervalo de confiança\n",
        "ci = st.norm.interval(confidence, loc=np.mean(dados_mg),\n",
        "                      scale=st.sem(dados_mg, ddof=0, nan_policy='omit'))\n",
        "\n"
      ],
      "execution_count": 69,
      "outputs": []
    },
    {
      "cell_type": "code",
      "metadata": {
        "id": "jJox9e8kY3SA",
        "colab": {
          "base_uri": "https://localhost:8080/"
        },
        "outputId": "849f1870-4f05-4532-b8e3-38ea41de62cc"
      },
      "source": [
        "np.round(ci,2)"
      ],
      "execution_count": 70,
      "outputs": [
        {
          "output_type": "execute_result",
          "data": {
            "text/plain": [
              "array([30.61, 37.28])"
            ]
          },
          "metadata": {},
          "execution_count": 70
        }
      ]
    },
    {
      "cell_type": "markdown",
      "metadata": {
        "id": "AqXAYCAZW9LH"
      },
      "source": [
        "## Exercício 4\n",
        "\n",
        "Usando a biblioteca scipy.stats, calcule e imprima o CI do tempo médio de deslocamento para cada estado brasileiro, com nível de confiança de 99% ."
      ]
    },
    {
      "cell_type": "code",
      "metadata": {
        "id": "_8124dEUXRJw",
        "colab": {
          "base_uri": "https://localhost:8080/"
        },
        "outputId": "fc2c7cfe-ca6a-4ce0-ee21-912667c37c4c"
      },
      "source": [
        "#Dica: a função unique dá o array de todos os estados\n",
        "df['sigla_uf'].unique()"
      ],
      "execution_count": 71,
      "outputs": [
        {
          "output_type": "execute_result",
          "data": {
            "text/plain": [
              "array(['RO', 'AC', 'PA', 'AM', 'RR', 'AP', 'TO', 'MA', 'PI', 'CE', 'RN',\n",
              "       'PB', 'PE', 'AL', 'SE', 'BA', 'MG', 'ES', 'RJ', 'SP', 'PR', 'SC',\n",
              "       'RS', 'MS', 'MT', 'GO', 'DF'], dtype=object)"
            ]
          },
          "metadata": {},
          "execution_count": 71
        }
      ]
    },
    {
      "cell_type": "code",
      "metadata": {
        "id": "nD3qzzAlbEKf",
        "colab": {
          "base_uri": "https://localhost:8080/"
        },
        "outputId": "bc9ccbdb-6b18-4e7e-aacb-34f45f33dfdf"
      },
      "source": [
        "\n",
        "\n",
        "# Obtenha a lista de todos os estados no DataFrame\n",
        "estados = df['sigla_uf'].unique()\n",
        "\n",
        "# Nível de confiança de 99%\n",
        "confidence = 0.99\n",
        "\n",
        "# Inicialize uma lista para armazenar os CIs\n",
        "cis = []\n",
        "\n",
        "# Loop através de cada estado e calcule o CI\n",
        "for estado in estados:\n",
        "    dados_estado = df.loc[df['sigla_uf'] == estado, 'tempo_medio_deslocamento']\n",
        "    ci = st.norm.interval(confidence, loc=np.mean(dados_estado),\n",
        "                          scale=st.sem(dados_estado, ddof=0, nan_policy='omit'))\n",
        "    cis.append({'Estado': estado, 'CI': ci})\n",
        "\n",
        "# Exibição dos resultados\n",
        "for item in cis:\n",
        "    print(f'Estado: {item[\"Estado\"]}, CI: ({item[\"CI\"][0]:.2f}, {item[\"CI\"][1]:.2f})')\n"
      ],
      "execution_count": 72,
      "outputs": [
        {
          "output_type": "stream",
          "name": "stdout",
          "text": [
            "Estado: RO, CI: (nan, nan)\n",
            "Estado: AC, CI: (nan, nan)\n",
            "Estado: PA, CI: (25.98, 40.02)\n",
            "Estado: AM, CI: (nan, nan)\n",
            "Estado: RR, CI: (nan, nan)\n",
            "Estado: AP, CI: (nan, nan)\n",
            "Estado: TO, CI: (nan, nan)\n",
            "Estado: MA, CI: (nan, nan)\n",
            "Estado: PI, CI: (nan, nan)\n",
            "Estado: CE, CI: (22.25, 29.01)\n",
            "Estado: RN, CI: (nan, nan)\n",
            "Estado: PB, CI: (nan, nan)\n",
            "Estado: PE, CI: (34.31, 43.82)\n",
            "Estado: AL, CI: (nan, nan)\n",
            "Estado: SE, CI: (nan, nan)\n",
            "Estado: BA, CI: (27.55, 35.06)\n",
            "Estado: MG, CI: (29.56, 38.33)\n",
            "Estado: ES, CI: (nan, nan)\n",
            "Estado: RJ, CI: (39.85, 51.49)\n",
            "Estado: SP, CI: (41.08, 47.95)\n",
            "Estado: PR, CI: (29.20, 37.97)\n",
            "Estado: SC, CI: (nan, nan)\n",
            "Estado: RS, CI: (nan, nan)\n",
            "Estado: MS, CI: (nan, nan)\n",
            "Estado: MT, CI: (nan, nan)\n",
            "Estado: GO, CI: (24.13, 36.13)\n",
            "Estado: DF, CI: (nan, nan)\n"
          ]
        }
      ]
    },
    {
      "cell_type": "markdown",
      "metadata": {
        "id": "c0triLjibE3B"
      },
      "source": [
        "## Exercício 5\n",
        "Se não há valores valores, por que a função retorna NA para alguns estados?"
      ]
    },
    {
      "cell_type": "markdown",
      "metadata": {
        "id": "NDkZBh6abP8h"
      },
      "source": [
        "A função retorna NA em alguns estados devido ao fato de alguns estados não possui um tamanho de amostra suficientemente grande, aasim, não é possível calcular intervalos de confiança com precisão. Outra razão seria os dados terem muito valores semenhantes."
      ]
    },
    {
      "cell_type": "markdown",
      "metadata": {
        "id": "Uc6n2JacbQim"
      },
      "source": [
        "## Exercício 6\n",
        "\n",
        "Crie uma visualização (a seu critério) para mostrar os intervalos de confiança dos estados com valores não nulos. Qual padrão você observa?"
      ]
    },
    {
      "cell_type": "code",
      "metadata": {
        "id": "rHgfu15-bhFs",
        "colab": {
          "base_uri": "https://localhost:8080/",
          "height": 565
        },
        "outputId": "3832b764-5375-42f9-863e-7697016bb98e"
      },
      "source": [
        "import matplotlib.pyplot as plt\n",
        "\n",
        "# Filtrar estados com valores não nulos\n",
        "estados_com_dados = [estado for estado in estados if not pd.isna(df.loc[df['sigla_uf'] == estado, 'tempo_medio_deslocamento']).all()]\n",
        "\n",
        "# Criar uma lista de médias e intervalos de confiança para os estados com dados\n",
        "medias = [np.mean(df.loc[df['sigla_uf'] == estado, 'tempo_medio_deslocamento']) for estado in estados_com_dados]\n",
        "cis = [st.norm.interval(confidence, loc=np.mean(df.loc[df['sigla_uf'] == estado, 'tempo_medio_deslocamento']),\n",
        "                        scale=st.sem(df.loc[df['sigla_uf'] == estado, 'tempo_medio_deslocamento'], ddof=0, nan_policy='omit')) for estado in estados_com_dados]\n",
        "\n",
        "# Separar os limites inferiores e superiores dos intervalos de confiança\n",
        "ci_inf = [ci[0] for ci in cis]\n",
        "ci_sup = [ci[1] for ci in cis]\n",
        "\n",
        "# Criar listas separadas para as barras de erro inferior e superior\n",
        "x = medias\n",
        "xerr_lower = [medias[i] - ci_inf[i] for i in range(len(estados_com_dados))]\n",
        "xerr_upper = [ci_sup[i] - medias[i] for i in range(len(estados_com_dados))]\n",
        "\n",
        "# Criar um gráfico de barras com barras de erro\n",
        "plt.figure(figsize=(12, 6))\n",
        "plt.barh(estados_com_dados, x, xerr=[xerr_lower, xerr_upper], capsize=5)\n",
        "plt.xlabel('Tempo Médio de Deslocamento')\n",
        "plt.title('Intervalo de Confiança do Tempo Médio de Deslocamento por Estado (Nível de Confiança 99%)')\n",
        "\n",
        "plt.show()\n"
      ],
      "execution_count": 73,
      "outputs": [
        {
          "output_type": "display_data",
          "data": {
            "text/plain": [
              "<Figure size 1200x600 with 1 Axes>"
            ],
            "image/png": "[encoded data removed]"
          },
          "metadata": {}
        }
      ]
    },
    {
      "cell_type": "markdown",
      "source": [
        "O gráfico acima mostra as variações regionais do tempo, poe exemplo o sudeste tem o tempo médio de deslocamento maior que norte e nordeste, principalmente, pela presença dos estados de São Paulo e Rio de Janeiro. Outra fato importante de ser lembrado é o intervalo de confiança que em estados como São Paulo e Minas Gerais, os dois mais populosos, apresentam um intervalo de confiança mais estreitos em comparação com outros estados, o que sugere uma uniformidade do deslocamento nesses estados."
      ],
      "metadata": {
        "id": "DRmAfyv8emba"
      }
    }
  ]
}